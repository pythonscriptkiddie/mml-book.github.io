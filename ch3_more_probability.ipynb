{
 "cells": [
  {
   "cell_type": "code",
   "execution_count": 1,
   "id": "da9ee128-172d-49bb-9839-2b6b91a353b9",
   "metadata": {},
   "outputs": [],
   "source": [
    "import numpy as np"
   ]
  },
  {
   "cell_type": "code",
   "execution_count": 2,
   "id": "3b6703eb-86d3-4fe2-82ff-61fb66c158fe",
   "metadata": {},
   "outputs": [],
   "source": [
    "n = np.random.randint(0, 10, 10000)"
   ]
  },
  {
   "cell_type": "code",
   "execution_count": 3,
   "id": "36d4e12e-00a2-48b2-8118-c32d0795847f",
   "metadata": {},
   "outputs": [],
   "source": [
    "h = np.bincount(n)"
   ]
  },
  {
   "cell_type": "code",
   "execution_count": 4,
   "id": "0fa47357-52c8-44a9-8c8e-c28ff83fc604",
   "metadata": {},
   "outputs": [
    {
     "data": {
      "text/plain": [
       "array([ 980, 1022, 1013,  973, 1000,  996, 1059,  975,  994,  988])"
      ]
     },
     "execution_count": 4,
     "metadata": {},
     "output_type": "execute_result"
    }
   ],
   "source": [
    "h"
   ]
  },
  {
   "cell_type": "code",
   "execution_count": 5,
   "id": "a4e2e406-888e-4693-bb73-2776919c90da",
   "metadata": {},
   "outputs": [],
   "source": [
    "h = h / h.sum()"
   ]
  },
  {
   "cell_type": "code",
   "execution_count": 6,
   "id": "f6d31717-a495-4715-92b2-75a84e909c35",
   "metadata": {},
   "outputs": [
    {
     "data": {
      "text/plain": [
       "array([0.098 , 0.1022, 0.1013, 0.0973, 0.1   , 0.0996, 0.1059, 0.0975,\n",
       "       0.0994, 0.0988])"
      ]
     },
     "execution_count": 6,
     "metadata": {},
     "output_type": "execute_result"
    }
   ],
   "source": [
    "h"
   ]
  },
  {
   "cell_type": "code",
   "execution_count": 8,
   "id": "cf34dfca-ec65-4de9-b919-00a15cbeff99",
   "metadata": {},
   "outputs": [
    {
     "data": {
      "text/plain": [
       "(array([172, 354, 316, 129,  28,   1]),\n",
       " array([0.172, 0.354, 0.316, 0.129, 0.028, 0.001]))"
      ]
     },
     "execution_count": 8,
     "metadata": {},
     "output_type": "execute_result"
    }
   ],
   "source": [
    "t = np.random.binomial(5, 0.3, size=1000)\n",
    "s = np.bincount(t)\n",
    "s, s/s.sum()"
   ]
  },
  {
   "cell_type": "code",
   "execution_count": null,
   "id": "d998d623-779b-45e8-8294-df70e7410669",
   "metadata": {},
   "outputs": [],
   "source": []
  }
 ],
 "metadata": {
  "kernelspec": {
   "display_name": "Python 3 (ipykernel)",
   "language": "python",
   "name": "python3"
  },
  "language_info": {
   "codemirror_mode": {
    "name": "ipython",
    "version": 3
   },
   "file_extension": ".py",
   "mimetype": "text/x-python",
   "name": "python",
   "nbconvert_exporter": "python",
   "pygments_lexer": "ipython3",
   "version": "3.9.7"
  }
 },
 "nbformat": 4,
 "nbformat_minor": 5
}
